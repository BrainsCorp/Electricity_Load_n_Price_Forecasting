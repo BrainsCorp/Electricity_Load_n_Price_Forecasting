{
 "cells": [
  {
   "cell_type": "markdown",
   "metadata": {},
   "source": [
    "## Importing Libraries"
   ]
  },
  {
   "cell_type": "code",
   "execution_count": 35,
   "metadata": {
    "application/vnd.databricks.v1+cell": {
     "cellMetadata": {
      "byteLimit": 2048000,
      "rowLimit": 10000
     },
     "inputWidgets": {},
     "nuid": "98996a5f-24b8-4d25-8fff-a30b3a0c4ede",
     "showTitle": false,
     "tableResultSettingsMap": {},
     "title": ""
    },
    "executionInfo": {
     "elapsed": 410,
     "status": "ok",
     "timestamp": 1688877911590,
     "user": {
      "displayName": "Shaharyar Khwaja",
      "userId": "12755903493615248294"
     },
     "user_tz": 240
    },
    "id": "1a6TLuhy9nrc"
   },
   "outputs": [],
   "source": [
    "import pandas as pd\n",
    "import numpy as np\n",
    "import datetime as dt"
   ]
  },
  {
   "cell_type": "code",
   "execution_count": null,
   "metadata": {},
   "outputs": [
    {
     "name": "stdout",
     "output_type": "stream",
     "text": [
      "Requirement already satisfied: xlrd in c:\\users\\visha\\appdata\\local\\programs\\python\\python313\\lib\\site-packages (2.0.2)\n",
      "Requirement already satisfied: scipy in c:\\users\\visha\\appdata\\local\\programs\\python\\python313\\lib\\site-packages (1.16.1)\n",
      "Requirement already satisfied: matplotlib in c:\\users\\visha\\appdata\\local\\programs\\python\\python313\\lib\\site-packages (3.10.5)\n",
      "Requirement already satisfied: seaborn in c:\\users\\visha\\appdata\\local\\programs\\python\\python313\\lib\\site-packages (0.13.2)\n",
      "Requirement already satisfied: scikit-learn in c:\\users\\visha\\appdata\\local\\programs\\python\\python313\\lib\\site-packages (1.7.1)\n",
      "Requirement already satisfied: dmba in c:\\users\\visha\\appdata\\local\\programs\\python\\python313\\lib\\site-packages (0.2.4)\n",
      "Requirement already satisfied: numpy<2.6,>=1.25.2 in c:\\users\\visha\\appdata\\local\\programs\\python\\python313\\lib\\site-packages (from scipy) (2.3.1)\n",
      "Requirement already satisfied: contourpy>=1.0.1 in c:\\users\\visha\\appdata\\local\\programs\\python\\python313\\lib\\site-packages (from matplotlib) (1.3.3)\n",
      "Requirement already satisfied: cycler>=0.10 in c:\\users\\visha\\appdata\\local\\programs\\python\\python313\\lib\\site-packages (from matplotlib) (0.12.1)\n",
      "Requirement already satisfied: fonttools>=4.22.0 in c:\\users\\visha\\appdata\\local\\programs\\python\\python313\\lib\\site-packages (from matplotlib) (4.59.0)\n",
      "Requirement already satisfied: kiwisolver>=1.3.1 in c:\\users\\visha\\appdata\\local\\programs\\python\\python313\\lib\\site-packages (from matplotlib) (1.4.8)\n",
      "Requirement already satisfied: packaging>=20.0 in c:\\users\\visha\\appdata\\roaming\\python\\python313\\site-packages (from matplotlib) (25.0)\n",
      "Requirement already satisfied: pillow>=8 in c:\\users\\visha\\appdata\\local\\programs\\python\\python313\\lib\\site-packages (from matplotlib) (11.3.0)\n",
      "Requirement already satisfied: pyparsing>=2.3.1 in c:\\users\\visha\\appdata\\local\\programs\\python\\python313\\lib\\site-packages (from matplotlib) (3.2.3)\n",
      "Requirement already satisfied: python-dateutil>=2.7 in c:\\users\\visha\\appdata\\roaming\\python\\python313\\site-packages (from matplotlib) (2.9.0.post0)\n",
      "Requirement already satisfied: pandas>=1.2 in c:\\users\\visha\\appdata\\local\\programs\\python\\python313\\lib\\site-packages (from seaborn) (2.3.1)\n",
      "Requirement already satisfied: joblib>=1.2.0 in c:\\users\\visha\\appdata\\local\\programs\\python\\python313\\lib\\site-packages (from scikit-learn) (1.5.1)\n",
      "Requirement already satisfied: threadpoolctl>=3.1.0 in c:\\users\\visha\\appdata\\local\\programs\\python\\python313\\lib\\site-packages (from scikit-learn) (3.6.0)\n",
      "Requirement already satisfied: graphviz in c:\\users\\visha\\appdata\\local\\programs\\python\\python313\\lib\\site-packages (from dmba) (0.21)\n",
      "Requirement already satisfied: pytz>=2020.1 in c:\\users\\visha\\appdata\\local\\programs\\python\\python313\\lib\\site-packages (from pandas>=1.2->seaborn) (2025.2)\n",
      "Requirement already satisfied: tzdata>=2022.7 in c:\\users\\visha\\appdata\\local\\programs\\python\\python313\\lib\\site-packages (from pandas>=1.2->seaborn) (2025.2)\n",
      "Requirement already satisfied: six>=1.5 in c:\\users\\visha\\appdata\\roaming\\python\\python313\\site-packages (from python-dateutil>=2.7->matplotlib) (1.17.0)\n",
      "Note: you may need to restart the kernel to use updated packages.\n"
     ]
    },
    {
     "name": "stderr",
     "output_type": "stream",
     "text": [
      "\n",
      "[notice] A new release of pip is available: 25.1.1 -> 25.2\n",
      "[notice] To update, run: python.exe -m pip install --upgrade pip\n"
     ]
    }
   ],
   "source": [
    "%pip install xlrd scipy matplotlib seaborn scikit-learn dmba"
   ]
  },
  {
   "cell_type": "markdown",
   "metadata": {},
   "source": [
    "## Loading Dataset"
   ]
  },
  {
   "cell_type": "code",
   "execution_count": 37,
   "metadata": {},
   "outputs": [
    {
     "data": {
      "text/plain": [
       "'c:\\\\Users\\\\visha\\\\OneDrive\\\\Documents\\\\ML-Project\\\\Electricity_Load_n_Price_Forecasting\\\\datasets\\\\Book3.csv'"
      ]
     },
     "execution_count": 37,
     "metadata": {},
     "output_type": "execute_result"
    }
   ],
   "source": [
    "import os\n",
    "\n",
    "def get_dataset_file_path(file_name):\n",
    "    # Get current working directory\n",
    "    cwd = os.getcwd()\n",
    "\n",
    "    # Construct relative path to the dataset\n",
    "    relative_path = os.path.join(cwd, \"..\", \"datasets\", file_name)\n",
    "\n",
    "    # Convert to absolute path\n",
    "    absolute_path = os.path.abspath(relative_path)\n",
    "\n",
    "    return absolute_path\n",
    "\n",
    "# Example usage\n",
    "file_name = \"Book3.csv\"\n",
    "get_dataset_file_path(file_name)"
   ]
  },
  {
   "cell_type": "code",
   "execution_count": 38,
   "metadata": {
    "application/vnd.databricks.v1+cell": {
     "cellMetadata": {
      "byteLimit": 2048000,
      "rowLimit": 10000
     },
     "inputWidgets": {},
     "nuid": "a8916995-5432-466f-8d64-6cc807831a33",
     "showTitle": false,
     "tableResultSettingsMap": {},
     "title": ""
    },
    "colab": {
     "base_uri": "https://localhost:8080/"
    },
    "executionInfo": {
     "elapsed": 129,
     "status": "ok",
     "timestamp": 1688879488827,
     "user": {
      "displayName": "Shaharyar Khwaja",
      "userId": "12755903493615248294"
     },
     "user_tz": 240
    },
    "id": "7LJ1eFaD9nrg",
    "outputId": "17cc5599-7ab7-40fa-f19a-e890c4bd0204"
   },
   "outputs": [
    {
     "data": {
      "text/html": [
       "<div>\n",
       "<style scoped>\n",
       "    .dataframe tbody tr th:only-of-type {\n",
       "        vertical-align: middle;\n",
       "    }\n",
       "\n",
       "    .dataframe tbody tr th {\n",
       "        vertical-align: top;\n",
       "    }\n",
       "\n",
       "    .dataframe thead th {\n",
       "        text-align: right;\n",
       "    }\n",
       "</style>\n",
       "<table border=\"1\" class=\"dataframe\">\n",
       "  <thead>\n",
       "    <tr style=\"text-align: right;\">\n",
       "      <th></th>\n",
       "      <th>Date</th>\n",
       "      <th>Hour</th>\n",
       "      <th>DryBulb</th>\n",
       "      <th>DewPnt</th>\n",
       "      <th>SYSLoad</th>\n",
       "      <th>NumDate</th>\n",
       "    </tr>\n",
       "  </thead>\n",
       "  <tbody>\n",
       "    <tr>\n",
       "      <th>0</th>\n",
       "      <td>2004-01-01 00:00:00.0</td>\n",
       "      <td>1</td>\n",
       "      <td>37</td>\n",
       "      <td>25</td>\n",
       "      <td>12230</td>\n",
       "      <td>732000.0</td>\n",
       "    </tr>\n",
       "    <tr>\n",
       "      <th>1</th>\n",
       "      <td>2004-01-01 00:00:00.0</td>\n",
       "      <td>2</td>\n",
       "      <td>37</td>\n",
       "      <td>25</td>\n",
       "      <td>11534</td>\n",
       "      <td>732000.0</td>\n",
       "    </tr>\n",
       "    <tr>\n",
       "      <th>2</th>\n",
       "      <td>2004-01-01 00:00:00.0</td>\n",
       "      <td>3</td>\n",
       "      <td>39</td>\n",
       "      <td>24</td>\n",
       "      <td>11038</td>\n",
       "      <td>732000.0</td>\n",
       "    </tr>\n",
       "    <tr>\n",
       "      <th>3</th>\n",
       "      <td>2004-01-01 00:00:00.0</td>\n",
       "      <td>4</td>\n",
       "      <td>38</td>\n",
       "      <td>22</td>\n",
       "      <td>10777</td>\n",
       "      <td>732000.0</td>\n",
       "    </tr>\n",
       "    <tr>\n",
       "      <th>4</th>\n",
       "      <td>2004-01-01 00:00:00.0</td>\n",
       "      <td>5</td>\n",
       "      <td>37</td>\n",
       "      <td>20</td>\n",
       "      <td>10764</td>\n",
       "      <td>732000.0</td>\n",
       "    </tr>\n",
       "    <tr>\n",
       "      <th>...</th>\n",
       "      <td>...</td>\n",
       "      <td>...</td>\n",
       "      <td>...</td>\n",
       "      <td>...</td>\n",
       "      <td>...</td>\n",
       "      <td>...</td>\n",
       "    </tr>\n",
       "    <tr>\n",
       "      <th>52603</th>\n",
       "      <td>2009-12-31 00:00:00.0</td>\n",
       "      <td>20</td>\n",
       "      <td>28</td>\n",
       "      <td>25</td>\n",
       "      <td>17419</td>\n",
       "      <td>734000.0</td>\n",
       "    </tr>\n",
       "    <tr>\n",
       "      <th>52604</th>\n",
       "      <td>2009-12-31 00:00:00.0</td>\n",
       "      <td>21</td>\n",
       "      <td>27</td>\n",
       "      <td>25</td>\n",
       "      <td>16514</td>\n",
       "      <td>734000.0</td>\n",
       "    </tr>\n",
       "    <tr>\n",
       "      <th>52605</th>\n",
       "      <td>2009-12-31 00:00:00.0</td>\n",
       "      <td>22</td>\n",
       "      <td>27</td>\n",
       "      <td>25</td>\n",
       "      <td>15633</td>\n",
       "      <td>734000.0</td>\n",
       "    </tr>\n",
       "    <tr>\n",
       "      <th>52606</th>\n",
       "      <td>2009-12-31 00:00:00.0</td>\n",
       "      <td>23</td>\n",
       "      <td>27</td>\n",
       "      <td>24</td>\n",
       "      <td>14739</td>\n",
       "      <td>734000.0</td>\n",
       "    </tr>\n",
       "    <tr>\n",
       "      <th>52607</th>\n",
       "      <td>2009-12-31 00:00:00.0</td>\n",
       "      <td>24</td>\n",
       "      <td>27</td>\n",
       "      <td>24</td>\n",
       "      <td>13953</td>\n",
       "      <td>734000.0</td>\n",
       "    </tr>\n",
       "  </tbody>\n",
       "</table>\n",
       "<p>52608 rows × 6 columns</p>\n",
       "</div>"
      ],
      "text/plain": [
       "                        Date  Hour  DryBulb  DewPnt  SYSLoad   NumDate\n",
       "0      2004-01-01 00:00:00.0     1       37      25    12230  732000.0\n",
       "1      2004-01-01 00:00:00.0     2       37      25    11534  732000.0\n",
       "2      2004-01-01 00:00:00.0     3       39      24    11038  732000.0\n",
       "3      2004-01-01 00:00:00.0     4       38      22    10777  732000.0\n",
       "4      2004-01-01 00:00:00.0     5       37      20    10764  732000.0\n",
       "...                      ...   ...      ...     ...      ...       ...\n",
       "52603  2009-12-31 00:00:00.0    20       28      25    17419  734000.0\n",
       "52604  2009-12-31 00:00:00.0    21       27      25    16514  734000.0\n",
       "52605  2009-12-31 00:00:00.0    22       27      25    15633  734000.0\n",
       "52606  2009-12-31 00:00:00.0    23       27      24    14739  734000.0\n",
       "52607  2009-12-31 00:00:00.0    24       27      24    13953  734000.0\n",
       "\n",
       "[52608 rows x 6 columns]"
      ]
     },
     "metadata": {},
     "output_type": "display_data"
    }
   ],
   "source": [
    "file_name = \"Book3.csv\"\n",
    "file_path = get_dataset_file_path(file_name)\n",
    "data = pd.read_csv(file_path)\n",
    "display(data)"
   ]
  },
  {
   "cell_type": "code",
   "execution_count": 39,
   "metadata": {
    "application/vnd.databricks.v1+cell": {
     "cellMetadata": {
      "byteLimit": 2048000,
      "rowLimit": 10000
     },
     "inputWidgets": {},
     "nuid": "80f52b87-2ed8-4808-840f-bd3be038885e",
     "showTitle": false,
     "tableResultSettingsMap": {},
     "title": ""
    }
   },
   "outputs": [
    {
     "data": {
      "image/png": "[encoded data removed]",
      "text/plain": [
       "<Figure size 640x480 with 1 Axes>"
      ]
     },
     "metadata": {},
     "output_type": "display_data"
    }
   ],
   "source": [
    "import matplotlib.pyplot as plt\n",
    "\n",
    "# Convert 'Date' column to datetime format\n",
    "data['Date'] = pd.to_datetime(data['Date'])\n",
    "\n",
    "years_count = data['Date'].dt.year.value_counts().sort_index()\n",
    "years_count.plot(kind='bar')\n",
    "plt.xlabel('Year')\n",
    "plt.ylabel('Number of Records')\n",
    "plt.title('Number of Records per Year')\n",
    "plt.show()\n"
   ]
  },
  {
   "cell_type": "code",
   "execution_count": 40,
   "metadata": {
    "application/vnd.databricks.v1+cell": {
     "cellMetadata": {
      "byteLimit": 2048000,
      "rowLimit": 10000
     },
     "inputWidgets": {},
     "nuid": "bfe8b60c-1b75-4da0-9862-d4f76431be1e",
     "showTitle": false,
     "tableResultSettingsMap": {},
     "title": ""
    }
   },
   "outputs": [
    {
     "data": {
      "text/html": [
       "<div>\n",
       "<style scoped>\n",
       "    .dataframe tbody tr th:only-of-type {\n",
       "        vertical-align: middle;\n",
       "    }\n",
       "\n",
       "    .dataframe tbody tr th {\n",
       "        vertical-align: top;\n",
       "    }\n",
       "\n",
       "    .dataframe thead th {\n",
       "        text-align: right;\n",
       "    }\n",
       "</style>\n",
       "<table border=\"1\" class=\"dataframe\">\n",
       "  <thead>\n",
       "    <tr style=\"text-align: right;\">\n",
       "      <th></th>\n",
       "      <th>Date</th>\n",
       "      <th>Hour</th>\n",
       "      <th>DryBulb</th>\n",
       "      <th>DewPnt</th>\n",
       "      <th>SYSLoad</th>\n",
       "      <th>NumDate</th>\n",
       "    </tr>\n",
       "  </thead>\n",
       "  <tbody>\n",
       "    <tr>\n",
       "      <th>52607</th>\n",
       "      <td>2009-12-31</td>\n",
       "      <td>24</td>\n",
       "      <td>27</td>\n",
       "      <td>24</td>\n",
       "      <td>13953</td>\n",
       "      <td>734000.0</td>\n",
       "    </tr>\n",
       "  </tbody>\n",
       "</table>\n",
       "</div>"
      ],
      "text/plain": [
       "            Date  Hour  DryBulb  DewPnt  SYSLoad   NumDate\n",
       "52607 2009-12-31    24       27      24    13953  734000.0"
      ]
     },
     "metadata": {},
     "output_type": "display_data"
    }
   ],
   "source": [
    "display(data.tail(1))"
   ]
  },
  {
   "cell_type": "code",
   "execution_count": 41,
   "metadata": {
    "application/vnd.databricks.v1+cell": {
     "cellMetadata": {
      "byteLimit": 2048000,
      "rowLimit": 10000
     },
     "inputWidgets": {},
     "nuid": "2eedd3f0-ebbf-403f-8e5b-caacacffbbd1",
     "showTitle": false,
     "tableResultSettingsMap": {},
     "title": ""
    },
    "colab": {
     "base_uri": "https://localhost:8080/"
    },
    "executionInfo": {
     "elapsed": 103,
     "status": "ok",
     "timestamp": 1688879490964,
     "user": {
      "displayName": "Shaharyar Khwaja",
      "userId": "12755903493615248294"
     },
     "user_tz": 240
    },
    "id": "a7qwxEZC9nrg",
    "outputId": "09f86eba-cb02-488f-adf1-6b8ee103514a"
   },
   "outputs": [
    {
     "data": {
      "text/html": [
       "<div>\n",
       "<style scoped>\n",
       "    .dataframe tbody tr th:only-of-type {\n",
       "        vertical-align: middle;\n",
       "    }\n",
       "\n",
       "    .dataframe tbody tr th {\n",
       "        vertical-align: top;\n",
       "    }\n",
       "\n",
       "    .dataframe thead th {\n",
       "        text-align: right;\n",
       "    }\n",
       "</style>\n",
       "<table border=\"1\" class=\"dataframe\">\n",
       "  <thead>\n",
       "    <tr style=\"text-align: right;\">\n",
       "      <th></th>\n",
       "      <th>Date</th>\n",
       "      <th>Holiday</th>\n",
       "    </tr>\n",
       "  </thead>\n",
       "  <tbody>\n",
       "    <tr>\n",
       "      <th>0</th>\n",
       "      <td>2004-01-01</td>\n",
       "      <td>New Year's Day</td>\n",
       "    </tr>\n",
       "    <tr>\n",
       "      <th>1</th>\n",
       "      <td>2004-01-19</td>\n",
       "      <td>Martin Luther King Day</td>\n",
       "    </tr>\n",
       "    <tr>\n",
       "      <th>2</th>\n",
       "      <td>2004-02-16</td>\n",
       "      <td>President's Day</td>\n",
       "    </tr>\n",
       "    <tr>\n",
       "      <th>3</th>\n",
       "      <td>2004-05-31</td>\n",
       "      <td>Memorial Day</td>\n",
       "    </tr>\n",
       "    <tr>\n",
       "      <th>4</th>\n",
       "      <td>2004-07-05</td>\n",
       "      <td>Independence Day</td>\n",
       "    </tr>\n",
       "  </tbody>\n",
       "</table>\n",
       "</div>"
      ],
      "text/plain": [
       "        Date                 Holiday\n",
       "0 2004-01-01          New Year's Day\n",
       "1 2004-01-19  Martin Luther King Day\n",
       "2 2004-02-16         President's Day\n",
       "3 2004-05-31            Memorial Day\n",
       "4 2004-07-05        Independence Day"
      ]
     },
     "metadata": {},
     "output_type": "display_data"
    }
   ],
   "source": [
    "file_name = \"Holidays.xls\"\n",
    "file_path = get_dataset_file_path(file_name)\n",
    "hdata = pd.read_excel(file_path)\n",
    "display(hdata.head())"
   ]
  },
  {
   "cell_type": "code",
   "execution_count": 42,
   "metadata": {
    "application/vnd.databricks.v1+cell": {
     "cellMetadata": {
      "byteLimit": 2048000,
      "rowLimit": 10000
     },
     "inputWidgets": {},
     "nuid": "2f581b45-4725-4bfb-88d5-21709fba9136",
     "showTitle": false,
     "tableResultSettingsMap": {},
     "title": ""
    },
    "colab": {
     "base_uri": "https://localhost:8080/"
    },
    "executionInfo": {
     "elapsed": 91,
     "status": "ok",
     "timestamp": 1688879495865,
     "user": {
      "displayName": "Shaharyar Khwaja",
      "userId": "12755903493615248294"
     },
     "user_tz": 240
    },
    "id": "0kFPa33t9nrh",
    "outputId": "88c4a839-ccee-4bbf-c81f-634988776e91"
   },
   "outputs": [
    {
     "data": {
      "text/plain": [
       "0   2004-01-01\n",
       "1   2004-01-19\n",
       "2   2004-02-16\n",
       "3   2004-05-31\n",
       "4   2004-07-05\n",
       "Name: Date, dtype: datetime64[ns]"
      ]
     },
     "execution_count": 42,
     "metadata": {},
     "output_type": "execute_result"
    }
   ],
   "source": [
    "holidays=hdata.Date\n",
    "holidays.head()"
   ]
  },
  {
   "cell_type": "markdown",
   "metadata": {},
   "source": [
    "## Data Preprocessing"
   ]
  },
  {
   "cell_type": "code",
   "execution_count": 43,
   "metadata": {
    "application/vnd.databricks.v1+cell": {
     "cellMetadata": {
      "byteLimit": 2048000,
      "rowLimit": 10000
     },
     "inputWidgets": {},
     "nuid": "eed8583b-5b4d-4ce0-815a-e602ea957434",
     "showTitle": false,
     "tableResultSettingsMap": {},
     "title": ""
    },
    "colab": {
     "base_uri": "https://localhost:8080/"
    },
    "executionInfo": {
     "elapsed": 97,
     "status": "ok",
     "timestamp": 1688879498007,
     "user": {
      "displayName": "Shaharyar Khwaja",
      "userId": "12755903493615248294"
     },
     "user_tz": 240
    },
    "id": "-b5CxJHV9nrh",
    "outputId": "2cc2ac1d-1bfd-4e73-81c5-530a4614b025"
   },
   "outputs": [
    {
     "data": {
      "text/plain": [
       "Date       datetime64[ns]\n",
       "Hour                int64\n",
       "DryBulb             int64\n",
       "DewPnt              int64\n",
       "SYSLoad             int64\n",
       "NumDate           float64\n",
       "dtype: object"
      ]
     },
     "execution_count": 43,
     "metadata": {},
     "output_type": "execute_result"
    }
   ],
   "source": [
    "#Convert dates to datetime data type\n",
    "data['Date']=pd.to_datetime(data['Date'])\n",
    "data.dtypes"
   ]
  },
  {
   "cell_type": "code",
   "execution_count": 44,
   "metadata": {
    "application/vnd.databricks.v1+cell": {
     "cellMetadata": {
      "byteLimit": 2048000,
      "rowLimit": 10000
     },
     "inputWidgets": {},
     "nuid": "77093048-b213-4fe5-ab62-ac6c651d9e56",
     "showTitle": false,
     "tableResultSettingsMap": {},
     "title": ""
    },
    "colab": {
     "base_uri": "https://localhost:8080/"
    },
    "executionInfo": {
     "elapsed": 100,
     "status": "ok",
     "timestamp": 1688879503194,
     "user": {
      "displayName": "Shaharyar Khwaja",
      "userId": "12755903493615248294"
     },
     "user_tz": 240
    },
    "id": "X7k4QtZR9nrh",
    "outputId": "8feb6ba2-f31a-4355-c048-99780bde313c"
   },
   "outputs": [
    {
     "data": {
      "text/plain": [
       "0    3\n",
       "1    3\n",
       "2    3\n",
       "3    3\n",
       "4    3\n",
       "Name: Date, dtype: int32"
      ]
     },
     "execution_count": 44,
     "metadata": {},
     "output_type": "execute_result"
    }
   ],
   "source": [
    "#get the day of the week for each date in the data\n",
    "dayofweek=data.Date.dt.weekday\n",
    "dayofweek.head()"
   ]
  },
  {
   "cell_type": "code",
   "execution_count": 45,
   "metadata": {
    "application/vnd.databricks.v1+cell": {
     "cellMetadata": {
      "byteLimit": 2048000,
      "rowLimit": 10000
     },
     "inputWidgets": {},
     "nuid": "6c0b1ffd-e54a-43c0-80db-dc26bde4bc76",
     "showTitle": false,
     "tableResultSettingsMap": {},
     "title": ""
    },
    "colab": {
     "base_uri": "https://localhost:8080/"
    },
    "executionInfo": {
     "elapsed": 111,
     "status": "ok",
     "timestamp": 1688879507890,
     "user": {
      "displayName": "Shaharyar Khwaja",
      "userId": "12755903493615248294"
     },
     "user_tz": 240
    },
    "id": "bIEtSO_Y9nri",
    "outputId": "e308f5e5-c2a1-4466-ee7b-2f40c4e2f8d5"
   },
   "outputs": [
    {
     "name": "stderr",
     "output_type": "stream",
     "text": [
      "C:\\Users\\visha\\AppData\\Local\\Temp\\ipykernel_17224\\1689000366.py:1: DeprecationWarning: `in1d` is deprecated. Use `np.isin` instead.\n",
      "  isworkday = np.in1d(dayofweek,[0,1,2,3,4]) & ~np.in1d(data['Date'],holidays)\n"
     ]
    },
    {
     "data": {
      "text/plain": [
       "np.False_"
      ]
     },
     "execution_count": 45,
     "metadata": {},
     "output_type": "execute_result"
    }
   ],
   "source": [
    "isworkday = np.in1d(dayofweek,[0,1,2,3,4]) & ~np.in1d(data['Date'],holidays)\n",
    "isworkday[22]"
   ]
  },
  {
   "cell_type": "code",
   "execution_count": 46,
   "metadata": {
    "application/vnd.databricks.v1+cell": {
     "cellMetadata": {
      "byteLimit": 2048000,
      "rowLimit": 10000
     },
     "inputWidgets": {},
     "nuid": "4d5aa47b-c872-47ab-a961-5ccbbff27e86",
     "showTitle": false,
     "tableResultSettingsMap": {},
     "title": ""
    },
    "colab": {
     "base_uri": "https://localhost:8080/"
    },
    "executionInfo": {
     "elapsed": 116,
     "status": "ok",
     "timestamp": 1688879510441,
     "user": {
      "displayName": "Shaharyar Khwaja",
      "userId": "12755903493615248294"
     },
     "user_tz": 240
    },
    "id": "ksqrKsr39nri",
    "outputId": "cfdac3e5-358a-4436-887b-f62819765e3f"
   },
   "outputs": [
    {
     "data": {
      "text/plain": [
       "np.float64(-1.0)"
      ]
     },
     "execution_count": 46,
     "metadata": {},
     "output_type": "execute_result"
    }
   ],
   "source": [
    "prevdaysamehour=np.hstack(((np.ones(24)*-1),(data['SYSLoad'][0:-24])))\n",
    "prevdaysamehour[0]"
   ]
  },
  {
   "cell_type": "code",
   "execution_count": 47,
   "metadata": {
    "application/vnd.databricks.v1+cell": {
     "cellMetadata": {
      "byteLimit": 2048000,
      "rowLimit": 10000
     },
     "inputWidgets": {},
     "nuid": "50754926-26bc-4d3e-ae5e-9a4c1923ba4d",
     "showTitle": false,
     "tableResultSettingsMap": {},
     "title": ""
    },
    "colab": {
     "base_uri": "https://localhost:8080/"
    },
    "executionInfo": {
     "elapsed": 129,
     "status": "ok",
     "timestamp": 1688879512173,
     "user": {
      "displayName": "Shaharyar Khwaja",
      "userId": "12755903493615248294"
     },
     "user_tz": 240
    },
    "id": "xDGunGoc9nrj",
    "outputId": "5d090fe3-4f7e-44a4-8659-c870c2dbeaea"
   },
   "outputs": [
    {
     "data": {
      "text/plain": [
       "(52608,)"
      ]
     },
     "execution_count": 47,
     "metadata": {},
     "output_type": "execute_result"
    }
   ],
   "source": [
    "prevweeksamehour=np.hstack(((np.ones(168)*-1),(data['SYSLoad'][0:-168])))\n",
    "prevweeksamehour.shape"
   ]
  },
  {
   "cell_type": "code",
   "execution_count": 48,
   "metadata": {
    "application/vnd.databricks.v1+cell": {
     "cellMetadata": {
      "byteLimit": 2048000,
      "rowLimit": 10000
     },
     "inputWidgets": {},
     "nuid": "ee31430c-8e60-434a-9b2e-19b91a5ceed0",
     "showTitle": false,
     "tableResultSettingsMap": {},
     "title": ""
    },
    "colab": {
     "base_uri": "https://localhost:8080/"
    },
    "executionInfo": {
     "elapsed": 683,
     "status": "ok",
     "timestamp": 1688879514529,
     "user": {
      "displayName": "Shaharyar Khwaja",
      "userId": "12755903493615248294"
     },
     "user_tz": 240
    },
    "id": "O8sjsbDK9nrj",
    "outputId": "7dac82ba-2c35-4562-87c2-cfc0807a2e16"
   },
   "outputs": [
    {
     "data": {
      "text/plain": [
       "(52608,)"
      ]
     },
     "execution_count": 48,
     "metadata": {},
     "output_type": "execute_result"
    }
   ],
   "source": [
    "import scipy\n",
    "import scipy.signal\n",
    "#By using the lfilter method get the previous 24 hour averrage temperature\n",
    "prev24houravg = scipy.signal.lfilter(np.ones(24) / 24, 1, data['SYSLoad'])\n",
    "prev24houravg.shape"
   ]
  },
  {
   "cell_type": "code",
   "execution_count": 49,
   "metadata": {
    "application/vnd.databricks.v1+cell": {
     "cellMetadata": {
      "byteLimit": 2048000,
      "rowLimit": 10000
     },
     "inputWidgets": {},
     "nuid": "3f36dfb1-2209-4bec-81b1-417816dad325",
     "showTitle": false,
     "tableResultSettingsMap": {},
     "title": ""
    },
    "colab": {
     "base_uri": "https://localhost:8080/"
    },
    "executionInfo": {
     "elapsed": 112,
     "status": "ok",
     "timestamp": 1688879520224,
     "user": {
      "displayName": "Shaharyar Khwaja",
      "userId": "12755903493615248294"
     },
     "user_tz": 240
    },
    "id": "0EQo-SAs9nrj",
    "outputId": "6454c911-7ec0-4822-e85e-ad5e6b79804b"
   },
   "outputs": [
    {
     "data": {
      "text/html": [
       "<div>\n",
       "<style scoped>\n",
       "    .dataframe tbody tr th:only-of-type {\n",
       "        vertical-align: middle;\n",
       "    }\n",
       "\n",
       "    .dataframe tbody tr th {\n",
       "        vertical-align: top;\n",
       "    }\n",
       "\n",
       "    .dataframe thead th {\n",
       "        text-align: right;\n",
       "    }\n",
       "</style>\n",
       "<table border=\"1\" class=\"dataframe\">\n",
       "  <thead>\n",
       "    <tr style=\"text-align: right;\">\n",
       "      <th></th>\n",
       "      <th>0</th>\n",
       "      <th>1</th>\n",
       "      <th>2</th>\n",
       "      <th>3</th>\n",
       "      <th>4</th>\n",
       "      <th>5</th>\n",
       "      <th>6</th>\n",
       "      <th>7</th>\n",
       "    </tr>\n",
       "  </thead>\n",
       "  <tbody>\n",
       "    <tr>\n",
       "      <th>0</th>\n",
       "      <td>37.0</td>\n",
       "      <td>25.0</td>\n",
       "      <td>1.0</td>\n",
       "      <td>3.0</td>\n",
       "      <td>0.0</td>\n",
       "      <td>-1.0</td>\n",
       "      <td>-1.0</td>\n",
       "      <td>509.583333</td>\n",
       "    </tr>\n",
       "    <tr>\n",
       "      <th>1</th>\n",
       "      <td>37.0</td>\n",
       "      <td>25.0</td>\n",
       "      <td>2.0</td>\n",
       "      <td>3.0</td>\n",
       "      <td>0.0</td>\n",
       "      <td>-1.0</td>\n",
       "      <td>-1.0</td>\n",
       "      <td>990.166667</td>\n",
       "    </tr>\n",
       "    <tr>\n",
       "      <th>2</th>\n",
       "      <td>39.0</td>\n",
       "      <td>24.0</td>\n",
       "      <td>3.0</td>\n",
       "      <td>3.0</td>\n",
       "      <td>0.0</td>\n",
       "      <td>-1.0</td>\n",
       "      <td>-1.0</td>\n",
       "      <td>1450.083333</td>\n",
       "    </tr>\n",
       "    <tr>\n",
       "      <th>3</th>\n",
       "      <td>38.0</td>\n",
       "      <td>22.0</td>\n",
       "      <td>4.0</td>\n",
       "      <td>3.0</td>\n",
       "      <td>0.0</td>\n",
       "      <td>-1.0</td>\n",
       "      <td>-1.0</td>\n",
       "      <td>1899.125000</td>\n",
       "    </tr>\n",
       "    <tr>\n",
       "      <th>4</th>\n",
       "      <td>37.0</td>\n",
       "      <td>20.0</td>\n",
       "      <td>5.0</td>\n",
       "      <td>3.0</td>\n",
       "      <td>0.0</td>\n",
       "      <td>-1.0</td>\n",
       "      <td>-1.0</td>\n",
       "      <td>2347.625000</td>\n",
       "    </tr>\n",
       "  </tbody>\n",
       "</table>\n",
       "</div>"
      ],
      "text/plain": [
       "      0     1    2    3    4    5    6            7\n",
       "0  37.0  25.0  1.0  3.0  0.0 -1.0 -1.0   509.583333\n",
       "1  37.0  25.0  2.0  3.0  0.0 -1.0 -1.0   990.166667\n",
       "2  39.0  24.0  3.0  3.0  0.0 -1.0 -1.0  1450.083333\n",
       "3  38.0  22.0  4.0  3.0  0.0 -1.0 -1.0  1899.125000\n",
       "4  37.0  20.0  5.0  3.0  0.0 -1.0 -1.0  2347.625000"
      ]
     },
     "metadata": {},
     "output_type": "display_data"
    }
   ],
   "source": [
    "#Put all the input data together into a single matrix\n",
    "X = np.vstack((data['DryBulb'],data['DewPnt'],data['Hour'],dayofweek,isworkday,prevweeksamehour,prevdaysamehour,prev24houravg))\n",
    "X.shape\n",
    "display(pd.DataFrame(X.T).head(5))"
   ]
  },
  {
   "cell_type": "code",
   "execution_count": 50,
   "metadata": {
    "application/vnd.databricks.v1+cell": {
     "cellMetadata": {
      "byteLimit": 2048000,
      "rowLimit": 10000
     },
     "inputWidgets": {},
     "nuid": "32f711a3-0176-4bda-9e09-a4b8ababc4db",
     "showTitle": false,
     "tableResultSettingsMap": {},
     "title": ""
    },
    "colab": {
     "base_uri": "https://localhost:8080/"
    },
    "executionInfo": {
     "elapsed": 95,
     "status": "ok",
     "timestamp": 1688879522166,
     "user": {
      "displayName": "Shaharyar Khwaja",
      "userId": "12755903493615248294"
     },
     "user_tz": 240
    },
    "id": "fg6asuGp9nrk",
    "outputId": "9b663ee2-3659-440d-b667-f834de9730e0"
   },
   "outputs": [
    {
     "data": {
      "text/plain": [
       "(52608, 8)"
      ]
     },
     "execution_count": 50,
     "metadata": {},
     "output_type": "execute_result"
    }
   ],
   "source": [
    "X=np.transpose(X)\n",
    "X.shape"
   ]
  },
  {
   "cell_type": "code",
   "execution_count": 51,
   "metadata": {
    "application/vnd.databricks.v1+cell": {
     "cellMetadata": {
      "byteLimit": 2048000,
      "rowLimit": 10000
     },
     "inputWidgets": {},
     "nuid": "fe8a2050-3755-450d-89de-c1d7efaca035",
     "showTitle": false,
     "tableResultSettingsMap": {},
     "title": ""
    },
    "executionInfo": {
     "elapsed": 89,
     "status": "ok",
     "timestamp": 1688879523941,
     "user": {
      "displayName": "Shaharyar Khwaja",
      "userId": "12755903493615248294"
     },
     "user_tz": 240
    },
    "id": "D2oedXNy9nrk"
   },
   "outputs": [],
   "source": [
    "numcols=X.shape[1]"
   ]
  },
  {
   "cell_type": "code",
   "execution_count": 52,
   "metadata": {
    "application/vnd.databricks.v1+cell": {
     "cellMetadata": {
      "byteLimit": 2048000,
      "rowLimit": 10000
     },
     "inputWidgets": {},
     "nuid": "6b809152-928f-427c-a613-672e9d2d45a6",
     "showTitle": false,
     "tableResultSettingsMap": {},
     "title": ""
    },
    "colab": {
     "base_uri": "https://localhost:8080/"
    },
    "executionInfo": {
     "elapsed": 128,
     "status": "ok",
     "timestamp": 1688879528619,
     "user": {
      "displayName": "Shaharyar Khwaja",
      "userId": "12755903493615248294"
     },
     "user_tz": 240
    },
    "id": "1RG1787I9nrk",
    "outputId": "0700fa7f-92e8-476b-8da1-71f6f9dd7504"
   },
   "outputs": [
    {
     "name": "stdout",
     "output_type": "stream",
     "text": [
      "(52440, 8)\n",
      "(52440, 6)\n"
     ]
    }
   ],
   "source": [
    "#Take out the first 168 indexes because they have null values\n",
    "X=X[168:,:]\n",
    "data=data[168:]\n",
    "print(X.shape)\n",
    "print(data.shape)"
   ]
  },
  {
   "cell_type": "markdown",
   "metadata": {},
   "source": [
    "## Training and Testing Split"
   ]
  },
  {
   "cell_type": "code",
   "execution_count": 53,
   "metadata": {
    "application/vnd.databricks.v1+cell": {
     "cellMetadata": {
      "byteLimit": 2048000,
      "rowLimit": 10000
     },
     "inputWidgets": {},
     "nuid": "12bbdc61-fe54-4a08-a6a2-b162716c2231",
     "showTitle": false,
     "tableResultSettingsMap": {},
     "title": ""
    },
    "colab": {
     "base_uri": "https://localhost:8080/"
    },
    "executionInfo": {
     "elapsed": 6,
     "status": "ok",
     "timestamp": 1688879530448,
     "user": {
      "displayName": "Shaharyar Khwaja",
      "userId": "12755903493615248294"
     },
     "user_tz": 240
    },
    "id": "xNlFq3Y69nrk",
    "outputId": "951b4a99-55cb-4f1d-d589-43ebf6e894c5"
   },
   "outputs": [
    {
     "data": {
      "text/plain": [
       "(34896, 8)"
      ]
     },
     "execution_count": 53,
     "metadata": {},
     "output_type": "execute_result"
    }
   ],
   "source": [
    "#Find the training index that will be used to split the data into train and test\n",
    "trainInd = data.Date < dt.datetime(2008, 1, 1)\n",
    "trainX = X[trainInd,:]\n",
    "trainX.shape"
   ]
  },
  {
   "cell_type": "code",
   "execution_count": 54,
   "metadata": {
    "application/vnd.databricks.v1+cell": {
     "cellMetadata": {
      "byteLimit": 2048000,
      "rowLimit": 10000
     },
     "inputWidgets": {},
     "nuid": "d7140a78-a34a-4eff-a2f4-44941abdb97d",
     "showTitle": false,
     "tableResultSettingsMap": {},
     "title": ""
    },
    "colab": {
     "base_uri": "https://localhost:8080/"
    },
    "executionInfo": {
     "elapsed": 127,
     "status": "ok",
     "timestamp": 1688879761018,
     "user": {
      "displayName": "Shaharyar Khwaja",
      "userId": "12755903493615248294"
     },
     "user_tz": 240
    },
    "id": "PTKDNV_n9nrl",
    "outputId": "d8eaa2ed-5156-4beb-8c30-030f869fc7fc"
   },
   "outputs": [
    {
     "data": {
      "text/plain": [
       "(34896, 1)"
      ]
     },
     "execution_count": 54,
     "metadata": {},
     "output_type": "execute_result"
    }
   ],
   "source": [
    "#assign the training outputs\n",
    "trainY=data.SYSLoad[trainInd]\n",
    "trainY=trainY.to_numpy()\n",
    "trainY = trainY.reshape((trainY.shape[0], 1))\n",
    "trainY.shape"
   ]
  },
  {
   "cell_type": "code",
   "execution_count": 55,
   "metadata": {
    "application/vnd.databricks.v1+cell": {
     "cellMetadata": {
      "byteLimit": 2048000,
      "rowLimit": 10000
     },
     "inputWidgets": {},
     "nuid": "f929232f-da3d-4bc3-83aa-e16cda0db3e8",
     "showTitle": false,
     "tableResultSettingsMap": {},
     "title": ""
    },
    "colab": {
     "base_uri": "https://localhost:8080/"
    },
    "executionInfo": {
     "elapsed": 112,
     "status": "ok",
     "timestamp": 1688880081162,
     "user": {
      "displayName": "Shaharyar Khwaja",
      "userId": "12755903493615248294"
     },
     "user_tz": 240
    },
    "id": "pcOR9au29nrl",
    "outputId": "96be47e7-877a-4cd2-b697-2849872a03b3"
   },
   "outputs": [
    {
     "data": {
      "text/plain": [
       "array([ 8.0000000e+00, -5.0000000e+00,  2.4000000e+01,  2.0000000e+00,\n",
       "        1.0000000e+00,  1.3253000e+04,  1.3827000e+04,  1.6115375e+04])"
      ]
     },
     "execution_count": 55,
     "metadata": {},
     "output_type": "execute_result"
    }
   ],
   "source": [
    "#split the range for the validation data\n",
    "validX=X[34896:43680]\n",
    "validX.shape\n",
    "validX[-1]"
   ]
  },
  {
   "cell_type": "code",
   "execution_count": 56,
   "metadata": {
    "application/vnd.databricks.v1+cell": {
     "cellMetadata": {
      "byteLimit": 2048000,
      "rowLimit": 10000
     },
     "inputWidgets": {},
     "nuid": "7fced324-b26d-4bd2-b627-5131b7c219b0",
     "showTitle": false,
     "tableResultSettingsMap": {},
     "title": ""
    },
    "colab": {
     "base_uri": "https://localhost:8080/"
    },
    "executionInfo": {
     "elapsed": 127,
     "status": "ok",
     "timestamp": 1688879797851,
     "user": {
      "displayName": "Shaharyar Khwaja",
      "userId": "12755903493615248294"
     },
     "user_tz": 240
    },
    "id": "bg6BJ_3e9nrl",
    "outputId": "923c464c-4250-420e-fc99-99a4125e299a"
   },
   "outputs": [
    {
     "data": {
      "text/plain": [
       "array([15438])"
      ]
     },
     "execution_count": 56,
     "metadata": {},
     "output_type": "execute_result"
    }
   ],
   "source": [
    "validY=data.SYSLoad[34896:43680]\n",
    "validY=validY.to_numpy()\n",
    "validY = validY.reshape((validY.shape[0], 1))\n",
    "validY[-1]"
   ]
  },
  {
   "cell_type": "code",
   "execution_count": 57,
   "metadata": {
    "application/vnd.databricks.v1+cell": {
     "cellMetadata": {
      "byteLimit": 2048000,
      "rowLimit": 10000
     },
     "inputWidgets": {},
     "nuid": "df10f767-37f9-4f34-874a-60ad1c1c690e",
     "showTitle": false,
     "tableResultSettingsMap": {},
     "title": ""
    },
    "colab": {
     "base_uri": "https://localhost:8080/"
    },
    "executionInfo": {
     "elapsed": 126,
     "status": "ok",
     "timestamp": 1688879819415,
     "user": {
      "displayName": "Shaharyar Khwaja",
      "userId": "12755903493615248294"
     },
     "user_tz": 240
    },
    "id": "Pws7e49F9nrl",
    "outputId": "6547dd5c-d4c8-4051-cdad-271c1f2a9c66"
   },
   "outputs": [
    {
     "name": "stdout",
     "output_type": "stream",
     "text": [
      "[[ 7.00000000e+00 -6.00000000e+00  1.00000000e+00 ...  1.21240000e+04\n",
      "   1.28040000e+04  1.61936250e+04]\n",
      " [ 6.00000000e+00 -7.00000000e+00  2.00000000e+00 ...  1.13450000e+04\n",
      "   1.21980000e+04  1.62724583e+04]\n",
      " [ 6.00000000e+00 -8.00000000e+00  3.00000000e+00 ...  1.08240000e+04\n",
      "   1.19230000e+04  1.63455417e+04]\n",
      " ...\n",
      " [ 2.70000000e+01  2.50000000e+01  2.20000000e+01 ...  1.54490000e+04\n",
      "   1.73440000e+04  1.58159167e+04]\n",
      " [ 2.70000000e+01  2.40000000e+01  2.30000000e+01 ...  1.47590000e+04\n",
      "   1.59130000e+04  1.57670000e+04]\n",
      " [ 2.70000000e+01  2.40000000e+01  2.40000000e+01 ...  1.38030000e+04\n",
      "   1.44660000e+04  1.57456250e+04]]\n"
     ]
    }
   ],
   "source": [
    "testInd = data.Date>= dt.datetime(2009, 1, 1)\n",
    "testX=X[testInd,:]\n",
    "print(testX)"
   ]
  },
  {
   "cell_type": "code",
   "execution_count": 58,
   "metadata": {
    "application/vnd.databricks.v1+cell": {
     "cellMetadata": {
      "byteLimit": 2048000,
      "rowLimit": 10000
     },
     "inputWidgets": {},
     "nuid": "cdd80f46-62b2-44f6-a765-f62cf7bd32ef",
     "showTitle": false,
     "tableResultSettingsMap": {},
     "title": ""
    },
    "executionInfo": {
     "elapsed": 123,
     "status": "ok",
     "timestamp": 1688879843267,
     "user": {
      "displayName": "Shaharyar Khwaja",
      "userId": "12755903493615248294"
     },
     "user_tz": 240
    },
    "id": "g4PXJxFo9nrl"
   },
   "outputs": [],
   "source": [
    "testY=data.SYSLoad[testInd]\n",
    "testY=testY.to_numpy()\n",
    "testY = testY.reshape((testY.shape[0], 1))"
   ]
  },
  {
   "cell_type": "markdown",
   "metadata": {},
   "source": [
    "## Model Training"
   ]
  },
  {
   "cell_type": "code",
   "execution_count": 70,
   "metadata": {
    "application/vnd.databricks.v1+cell": {
     "cellMetadata": {
      "byteLimit": 2048000,
      "rowLimit": 10000
     },
     "inputWidgets": {},
     "nuid": "55467e4d-44d8-4685-9834-244c9845ab41",
     "showTitle": false,
     "tableResultSettingsMap": {},
     "title": ""
    },
    "executionInfo": {
     "elapsed": 245,
     "status": "ok",
     "timestamp": 1688879851047,
     "user": {
      "displayName": "Shaharyar Khwaja",
      "userId": "12755903493615248294"
     },
     "user_tz": 240
    },
    "id": "GS2IOQsY9nrm"
   },
   "outputs": [
    {
     "name": "stdout",
     "output_type": "stream",
     "text": [
      "Validation Set\n",
      "\n",
      "Regression statistics\n",
      "\n",
      "                      Mean Error (ME) : -34.7420\n",
      "       Root Mean Squared Error (RMSE) : 402.3865\n",
      "            Mean Absolute Error (MAE) : 284.4230\n",
      "          Mean Percentage Error (MPE) : -0.2973\n",
      "Mean Absolute Percentage Error (MAPE) : 1.8683\n",
      "Random Forest Validation R^2 Score: 0.9799\n"
     ]
    }
   ],
   "source": [
    "from sklearn.ensemble import RandomForestRegressor\n",
    "from sklearn.metrics import r2_score\n",
    "from dmba import regressionSummary\n",
    "\n",
    "# Train the Random Forest model\n",
    "rf = RandomForestRegressor()\n",
    "rf.fit(trainX, trainY.ravel())\n",
    "\n",
    "# Predict and evaluate on the validation set\n",
    "predY_rf = rf.predict(validX)\n",
    "accuracy_rf = r2_score(validY, predY_rf)\n",
    "\n",
    "# Metrics\n",
    "print(\"Validation Set\")\n",
    "regressionSummary(validY, predY_rf)\n",
    "print(f\"Random Forest Validation R^2 Score: {accuracy_rf:.4f}\")"
   ]
  },
  {
   "cell_type": "markdown",
   "metadata": {},
   "source": [
    "## Model Evaluation"
   ]
  },
  {
   "cell_type": "code",
   "execution_count": 72,
   "metadata": {},
   "outputs": [
    {
     "name": "stdout",
     "output_type": "stream",
     "text": [
      "Test Set\n",
      "\n",
      "Regression statistics\n",
      "\n",
      "                      Mean Error (ME) : -132.3665\n",
      "       Root Mean Squared Error (RMSE) : 442.3063\n",
      "            Mean Absolute Error (MAE) : 332.7567\n",
      "          Mean Percentage Error (MPE) : -0.9754\n",
      "Mean Absolute Percentage Error (MAPE) : 2.2883\n",
      "Random Forest Test R^2 Score: 0.9749\n"
     ]
    }
   ],
   "source": [
    "# Evaluation on the test set\n",
    "print(\"Test Set\")\n",
    "predY_rf = rf.predict(testX)\n",
    "regressionSummary(testY, predY_rf)\n",
    "print(f\"Random Forest Test R^2 Score: {r2_score(testY, predY_rf):.4f}\")"
   ]
  },
  {
   "cell_type": "markdown",
   "metadata": {},
   "source": [
    "## Actual vs Prediction Chart"
   ]
  },
  {
   "cell_type": "code",
   "execution_count": 73,
   "metadata": {
    "application/vnd.databricks.v1+cell": {
     "cellMetadata": {
      "byteLimit": 2048000,
      "rowLimit": 10000
     },
     "inputWidgets": {},
     "nuid": "cd432146-7adf-4f51-95fc-e43a7ee467d6",
     "showTitle": false,
     "tableResultSettingsMap": {},
     "title": ""
    }
   },
   "outputs": [
    {
     "data": {
      "image/png": "[encoded data removed]",
      "text/plain": [
       "<Figure size 1400x700 with 1 Axes>"
      ]
     },
     "metadata": {},
     "output_type": "display_data"
    }
   ],
   "source": [
    "import matplotlib.pyplot as plt\n",
    "\n",
    "# predictions on test set\n",
    "predY_rf = rf.predict(testX)\n",
    "\n",
    "# Extract dates for the validation set\n",
    "validation_dates = data.Date[testInd]\n",
    "\n",
    "# Plot actual vs predicted values for the test set using Random Forest predictions\n",
    "plt.figure(figsize=(14, 7))\n",
    "plt.plot(validation_dates, testY, label='Actual Load', color='blue')\n",
    "plt.plot(validation_dates, predY_rf, label='Predicted Load (Random Forest)', color='red', linestyle='-')\n",
    "\n",
    "plt.xlabel('Date')\n",
    "plt.ylabel('Load Output')\n",
    "plt.title('Random Forest: Actual vs Predicted Load (Testing Set)')\n",
    "plt.legend()\n",
    "plt.grid(True)\n",
    "plt.show()"
   ]
  },
  {
   "cell_type": "code",
   "execution_count": 65,
   "metadata": {},
   "outputs": [
    {
     "name": "stdout",
     "output_type": "stream",
     "text": [
      "Model saved to c:\\Users\\visha\\OneDrive\\Documents\\ML-Project\\Electricity_Load_n_Price_Forecasting\\inference\\random_forest_model.pkl\n"
     ]
    }
   ],
   "source": [
    "# Storing Model inferences\n",
    "import joblib\n",
    "model_name = \"random_forest_model.pkl\"\n",
    "model_file_path = os.path.abspath(os.path.join(os.getcwd(), '..', 'inference', model_name))\n",
    "joblib.dump(rf, model_file_path)\n",
    "print(f\"Model saved to {model_file_path}\")"
   ]
  },
  {
   "cell_type": "code",
   "execution_count": 79,
   "metadata": {},
   "outputs": [],
   "source": [
    "# Storing compressed model\n",
    "import sys\n",
    "import os\n",
    "sys.path.append(os.path.abspath(os.path.join(os.getcwd(), '..', 'utils')))\n",
    "from utils import save_compressed_model\n",
    "\n",
    "# Compress and save the model\n",
    "# utils/utils.py\n",
    "filename = os.path.abspath(os.path.join(os.getcwd(), '..', 'inference', 'rfr.pkl'))\n",
    "save_compressed_model(rf, filename=filename)"
   ]
  },
  {
   "cell_type": "markdown",
   "metadata": {},
   "source": [
    "## Conclusion\n",
    "1. Strong Pattern Recognition: The model effectively captures the overall load trends and seasonal patterns, showing high alignment between predicted and actual values.\n",
    "\n",
    "2. Peak Load Challenges: Some deviations during peak periods suggest the model may underperform in extreme conditions, indicating room for improvement in handling volatility.\n",
    "\n",
    "3. Reliable Forecasting Tool: The consistent tracking of fluctuations over time makes Random Forest a dependable choice for load forecasting in operational settings.\n",
    "\n",
    "4. Robust Against Noise: Despite occasional mismatches, the ensemble nature of Random Forest helps smooth out irregularities, offering stable predictions across the dataset"
   ]
  }
 ],
 "metadata": {
  "application/vnd.databricks.v1+notebook": {
   "computePreferences": null,
   "dashboards": [],
   "environmentMetadata": null,
   "inputWidgetPreferences": null,
   "language": "python",
   "notebookMetadata": {
    "pythonIndentUnit": 4
   },
   "notebookName": "Random Forest",
   "widgets": {}
  },
  "colab": {
   "provenance": []
  },
  "kernelspec": {
   "display_name": "Python 3",
   "language": "python",
   "name": "python3"
  },
  "language_info": {
   "codemirror_mode": {
    "name": "ipython",
    "version": 3
   },
   "file_extension": ".py",
   "mimetype": "text/x-python",
   "name": "python",
   "nbconvert_exporter": "python",
   "pygments_lexer": "ipython3",
   "version": "3.13.5"
  }
 },
 "nbformat": 4,
 "nbformat_minor": 0
}
